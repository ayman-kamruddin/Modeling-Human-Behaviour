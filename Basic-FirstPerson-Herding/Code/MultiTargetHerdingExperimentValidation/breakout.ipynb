{
 "cells": [
  {
   "cell_type": "code",
   "execution_count": 7,
   "id": "20ff25b2",
   "metadata": {},
   "outputs": [],
   "source": [
    "import os # for directories\n",
    "from pathlib import Path # path functions\n",
    "import pandas as pd\n",
    "from policy import * # for policy functions"
   ]
  },
  {
   "cell_type": "code",
   "execution_count": 8,
   "id": "c8647d48",
   "metadata": {},
   "outputs": [],
   "source": [
    "cwd = os.getcwd() # Current working directory\n",
    "dataDir = Path(os.path.join(Path(cwd).parents[1], \"Data\\MultiTargetHerdingExperimentValidation\")) #Directory of all sessions"
   ]
  },
  {
   "cell_type": "code",
   "execution_count": 9,
   "id": "20025bbf",
   "metadata": {},
   "outputs": [],
   "source": [
    "categoryI = [7,8,9,10,11] # angle vs distance\n",
    "categoryII = [12,13,14,15,16] # static vs. successive\n",
    "categoryIII = [17,18,19,20,21,22,23,24] # cluster or not"
   ]
  },
  {
   "cell_type": "code",
   "execution_count": 10,
   "id": "186e6094",
   "metadata": {},
   "outputs": [
    {
     "name": "stdout",
     "output_type": "stream",
     "text": [
      "0.78\n",
      "0.22\n"
     ]
    }
   ],
   "source": [
    "score_angle = 0\n",
    "score_distance = 0\n",
    "count = 0\n",
    "for trial in categoryI:\n",
    "    trial_ID = \"{:02}\".format(trial)\n",
    "    filePaths = [path for path in dataDir.rglob('*trialIdentifier'+trial_ID+'*')] # get all datasets (timeseries) correponding to a particular trialID over all participants\n",
    "    initCondsData = pd.read_csv(filePaths[0]) # I say 0 but any will do as it's all based on init conds\n",
    "    policyOrder_angle = get_successive_collinearity_ordering(initCondsData)\n",
    "    policyOrder_distance = get_distance_successive_collinearity_ordering(initCondsData)\n",
    "    for filePath in filePaths: #for each player\n",
    "        trialData = pd.read_csv(filePath)\n",
    "        observedTargetOrdering = np.argsort([np.where(trialData.t0run)[0][0], np.where(trialData.t1run)[0][0], np.where(trialData.t2run)[0][0]])\n",
    "        match_angle = order_match(policyOrder_angle, observedTargetOrdering)#compare the first number only#\n",
    "        match_distance = order_match(policyOrder_distance, observedTargetOrdering)\n",
    "        if match_angle == 1:\n",
    "            score_angle += 1\n",
    "        if match_distance == 1:\n",
    "            score_distance +=1\n",
    "        count +=1\n",
    "score_angle /= count\n",
    "score_distance /= count\n",
    "print(score_angle)\n",
    "print(score_distance)"
   ]
  },
  {
   "cell_type": "code",
   "execution_count": 11,
   "id": "1dfc7f43",
   "metadata": {},
   "outputs": [
    {
     "name": "stdout",
     "output_type": "stream",
     "text": [
      "0.12\n",
      "0.78\n"
     ]
    }
   ],
   "source": [
    "score_initial = 0\n",
    "score_successive = 0\n",
    "count = 0\n",
    "for trial in categoryII:\n",
    "    trial_ID = \"{:02}\".format(trial)\n",
    "    filePaths = [path for path in dataDir.rglob('*trialIdentifier'+trial_ID+'*')] # get all datasets (timeseries) correponding to a particular trialID over all participants\n",
    "    initCondsData = pd.read_csv(filePaths[0]) # I say 0 but any will do as it's all based on init conds\n",
    "    policyOrder_static = get_closest_angle_from_herder_ordering(initCondsData)\n",
    "    policyOrder_successive = get_successive_closest_angle_from_herder_ordering(initCondsData)\n",
    "    for filePath in filePaths: #for each player\n",
    "        trialData = pd.read_csv(filePath)\n",
    "        observedTargetOrdering = np.argsort([np.where(trialData.t0run)[0][0], np.where(trialData.t1run)[0][0], np.where(trialData.t2run)[0][0]])\n",
    "        match_static = order_match(policyOrder_static, observedTargetOrdering)\n",
    "        match_successive = order_match(policyOrder_successive, observedTargetOrdering)\n",
    "        if match_static == 1:\n",
    "            score_initial += 1\n",
    "        if match_successive == 1:\n",
    "            score_successive +=1\n",
    "        count +=1\n",
    "score_initial /= count\n",
    "score_successive /= count\n",
    "print(score_initial)\n",
    "print(score_successive)"
   ]
  },
  {
   "cell_type": "code",
   "execution_count": 12,
   "id": "ac449446",
   "metadata": {},
   "outputs": [
    {
     "name": "stdout",
     "output_type": "stream",
     "text": [
      "0.35\n",
      "0.0125\n"
     ]
    }
   ],
   "source": [
    "score_cluster = 0\n",
    "score_notCluster = 0\n",
    "count = 0\n",
    "for trial in categoryIII:\n",
    "    trial_ID = \"{:02}\".format(trial)\n",
    "    filePaths = [path for path in dataDir.rglob('*trialIdentifier'+trial_ID+'*')] # get all datasets (timeseries) correponding to a particular trialID over all participants\n",
    "    initCondsData = pd.read_csv(filePaths[0]) # I say 0 but any will do as it's all based on init conds\n",
    "    policyOrder_cluster = get_successive_collinearity_ordering(initCondsData)\n",
    "    policyOrder_notCluster = get_successive_closest_angle_from_herder_ordering(initCondsData)\n",
    "    for filePath in filePaths: #for each player\n",
    "        trialData = pd.read_csv(filePath)\n",
    "        observedTargetOrdering = np.argsort([np.where(trialData.t0run)[0][0], np.where(trialData.t1run)[0][0], np.where(trialData.t2run)[0][0]])\n",
    "        match_static = order_match(policyOrder_static, observedTargetOrdering)\n",
    "        match_successive = order_match(policyOrder_successive, observedTargetOrdering)\n",
    "        if match_static == 1:\n",
    "            score_cluster += 1\n",
    "        if match_successive == 1:\n",
    "            score_notCluster +=1\n",
    "        count +=1\n",
    "score_cluster /= count\n",
    "score_notCluster /= count\n",
    "print(score_cluster)\n",
    "print(score_notCluster)"
   ]
  }
 ],
 "metadata": {
  "kernelspec": {
   "display_name": "Python 3 (ipykernel)",
   "language": "python",
   "name": "python3"
  },
  "language_info": {
   "codemirror_mode": {
    "name": "ipython",
    "version": 3
   },
   "file_extension": ".py",
   "mimetype": "text/x-python",
   "name": "python",
   "nbconvert_exporter": "python",
   "pygments_lexer": "ipython3",
   "version": "3.10.6"
  }
 },
 "nbformat": 4,
 "nbformat_minor": 5
}
